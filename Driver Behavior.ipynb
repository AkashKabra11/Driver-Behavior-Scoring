{
 "cells": [
  {
   "cell_type": "code",
   "execution_count": 1,
   "metadata": {},
   "outputs": [],
   "source": [
    "import pandas as pd\n",
    "import numpy as np\n",
    "\n",
    "import matplotlib.pyplot as plt\n",
    "import seaborn as sns\n",
    "%matplotlib inline"
   ]
  },
  {
   "cell_type": "code",
   "execution_count": 2,
   "metadata": {},
   "outputs": [],
   "source": [
    "#importing dataset\n",
    "dataset = pd.read_csv('RK_12-13.csv')\n",
    "df = pd.DataFrame(dataset)"
   ]
  },
  {
   "cell_type": "code",
   "execution_count": 3,
   "metadata": {},
   "outputs": [],
   "source": [
    "#populating zero greendrive values \n",
    "df['greenDriveValue'].fillna(value=0, inplace = True)\n",
    "df['greenDriveType'].fillna(value=0, inplace = True)"
   ]
  },
  {
   "cell_type": "code",
   "execution_count": 4,
   "metadata": {},
   "outputs": [],
   "source": [
    "#adding ha, hb,hc columns\n",
    "df['HA']= df['greenDriveValue']*0\n",
    "df['HB']= df['greenDriveValue']*0\n",
    "df['HC']= df['greenDriveValue']*0"
   ]
  },
  {
   "cell_type": "code",
   "execution_count": 5,
   "metadata": {},
   "outputs": [],
   "source": [
    "#populating ha,hb,hc\n",
    "for index, row in df.iterrows():\n",
    "    if df.loc[index,'greenDriveType'] == 3:\n",
    "        df.loc[index,'HC'] = df.loc[index,'greenDriveValue']\n",
    "    if df.loc[index,'greenDriveType'] == 2:\n",
    "        df.loc[index,'HB'] = df.loc[index,'greenDriveValue']\n",
    "    if df.loc[index,'greenDriveType'] == 1:\n",
    "        df.loc[index,'HA'] = df.loc[index,'greenDriveValue']"
   ]
  },
  {
   "cell_type": "code",
   "execution_count": 6,
   "metadata": {},
   "outputs": [],
   "source": [
    "#populating os\n",
    "for index, row in df.iterrows():\n",
    "    if df.loc[index,'speed'] >= 35:\n",
    "        df.loc[index,'OS'] = (df.loc[index,'speed']*2 - 70)*50/35\n",
    "    else:\n",
    "        df.loc[index,'OS'] = 0\n"
   ]
  },
  {
   "cell_type": "code",
   "execution_count": 7,
   "metadata": {},
   "outputs": [],
   "source": [
    "#converting time to minutes\n",
    "import datetime\n",
    "\n",
    "for index, row in df.iterrows():\n",
    "    #if df.loc[index,'speed'] >= 50:\n",
    "     df.loc[index,'Time'] =datetime.datetime.fromtimestamp(df.loc[index, 'timestamp']).strftime('%H:%M:%S')\n",
    "\n",
    "df['Time'].str.split(':').head()\n",
    "df['Time']= df['Time'].str.split(':').apply(lambda x: (int(x[0]) * 3600 + int(x[1])*60 + int(x[2]))/60)"
   ]
  },
  {
   "cell_type": "code",
   "execution_count": 8,
   "metadata": {},
   "outputs": [],
   "source": [
    "#getting acceleration\n",
    "for index, row in df.iterrows():\n",
    "    df.loc[index,'acc'] = 0\n",
    "for index, row in df.iterrows():\n",
    "     if(df.iloc[index-1, 51] - df.iloc[index, 51]) != 0:\n",
    "         df.iloc[index,52] =(int)(df.iloc[index-1, 2] - df.iloc[index, 2])/(df.iloc[index-1, 51] - df.iloc[index, 51])"
   ]
  },
  {
   "cell_type": "code",
   "execution_count": 9,
   "metadata": {},
   "outputs": [],
   "source": [
    "# v*a\n",
    "for index, row in df.iterrows():\n",
    "    df.loc[index,'v*a']= df.loc[index,'acc']*df.loc[index,'speed']"
   ]
  },
  {
   "cell_type": "code",
   "execution_count": 10,
   "metadata": {},
   "outputs": [],
   "source": [
    "#scaling all parameters\n",
    "df['HA']= (df['HA']-np.mean(df['HA']))/np.std(df['HA'])\n",
    "df['HB']= (df['HB']-np.mean(df['HB']))/np.std(df['HB'])\n",
    "df['HC']= (df['HC']-np.mean(df['HC']))/np.std(df['HC'])\n",
    "df['OS']= (df['OS']-np.mean(df['OS']))/np.std(df['OS'])\n",
    "df['v*a']= (df['v*a']-np.mean(df['v*a']))/np.std(df['v*a'])"
   ]
  },
  {
   "cell_type": "code",
   "execution_count": 11,
   "metadata": {},
   "outputs": [],
   "source": [
    "#importing imp columns in a fresh df\n",
    "df1 = df[['v*a','HA','HB','HC','OS']]"
   ]
  },
  {
   "cell_type": "code",
   "execution_count": 12,
   "metadata": {},
   "outputs": [
    {
     "data": {
      "image/png": "[encoded data removed]",
      "text/plain": [
       "<Figure size 432x288 with 1 Axes>"
      ]
     },
     "metadata": {},
     "output_type": "display_data"
    }
   ],
   "source": [
    "#determine number of clusters\n",
    "from sklearn.cluster import KMeans\n",
    "wcss = []\n",
    "for i in range(1, 11):\n",
    "    kmeans = KMeans(n_clusters = i, init = 'k-means++')\n",
    "    kmeans.fit(df1)\n",
    "    wcss.append(kmeans.inertia_)\n",
    "plt.plot(range(1,11),wcss)\n",
    "plt.show()"
   ]
  },
  {
   "cell_type": "code",
   "execution_count": 13,
   "metadata": {},
   "outputs": [],
   "source": [
    "from sklearn.cluster import KMeans\n",
    "kmeans = KMeans(n_clusters=5)"
   ]
  },
  {
   "cell_type": "code",
   "execution_count": 14,
   "metadata": {},
   "outputs": [
    {
     "data": {
      "text/plain": [
       "KMeans(algorithm='auto', copy_x=True, init='k-means++', max_iter=300,\n",
       "    n_clusters=5, n_init=10, n_jobs=1, precompute_distances='auto',\n",
       "    random_state=None, tol=0.0001, verbose=0)"
      ]
     },
     "execution_count": 14,
     "metadata": {},
     "output_type": "execute_result"
    }
   ],
   "source": [
    "kmeans.fit(df1[['HA','HB','HC','OS','v*a']])"
   ]
  },
  {
   "cell_type": "code",
   "execution_count": 15,
   "metadata": {},
   "outputs": [],
   "source": [
    "a = kmeans.labels_"
   ]
  },
  {
   "cell_type": "code",
   "execution_count": 16,
   "metadata": {},
   "outputs": [],
   "source": [
    "ans = pd.Series(data = a)"
   ]
  },
  {
   "cell_type": "code",
   "execution_count": 17,
   "metadata": {},
   "outputs": [
    {
     "name": "stderr",
     "output_type": "stream",
     "text": [
      "C:\\Users\\Hp\\Anaconda3\\lib\\site-packages\\ipykernel_launcher.py:1: SettingWithCopyWarning: \n",
      "A value is trying to be set on a copy of a slice from a DataFrame.\n",
      "Try using .loc[row_indexer,col_indexer] = value instead\n",
      "\n",
      "See the caveats in the documentation: http://pandas.pydata.org/pandas-docs/stable/indexing.html#indexing-view-versus-copy\n",
      "  \"\"\"Entry point for launching an IPython kernel.\n"
     ]
    }
   ],
   "source": [
    "df1['Behavior']= ans"
   ]
  },
  {
   "cell_type": "code",
   "execution_count": 18,
   "metadata": {},
   "outputs": [],
   "source": [
    "   df1.to_excel('Driver_Behavior.xlsx', sheet_name = 'sheet1')"
   ]
  },
  {
   "cell_type": "code",
   "execution_count": null,
   "metadata": {},
   "outputs": [],
   "source": []
  }
 ],
 "metadata": {
  "kernelspec": {
   "display_name": "Python 3",
   "language": "python",
   "name": "python3"
  },
  "language_info": {
   "codemirror_mode": {
    "name": "ipython",
    "version": 3
   },
   "file_extension": ".py",
   "mimetype": "text/x-python",
   "name": "python",
   "nbconvert_exporter": "python",
   "pygments_lexer": "ipython3",
   "version": "3.6.5"
  }
 },
 "nbformat": 4,
 "nbformat_minor": 2
}
